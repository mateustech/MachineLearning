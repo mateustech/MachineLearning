{
 "cells": [
  {
   "cell_type": "code",
   "execution_count": null,
   "metadata": {},
   "outputs": [],
   "source": [
    "import os, cv2\n",
    "#Faz a varredura do diretório imagens buscando arquivos JPG, JPEG e PNG.\n",
    "diretorio = 'imagens'\n",
    "arquivos = os.listdir(diretorio)\n",
    "for a in arquivos:\n",
    "    if a.lower().endswith('.jpg') or a.lower().endswith('.png') or a.lower().endswith('.jpeg'):\n",
    "        imgC = cv2.imread(diretorio+'/'+a)\n",
    "        imgPB = cv2.cvtColor(imgC, cv2.COLOR_BGR2GRAY)\n",
    "        df = cv2.CascadeClassifier('./dataset/haarcascade_frontalface_default.xml')\n",
    "        faces = df.detectMultiScale(imgPB,\n",
    "                scaleFactor = 1.2, minNeighbors = 7,\n",
    "                minSize = (30,30), flags = cv2.CASCADE_SCALE_IMAGE)\n",
    "        for (x, y, w, h) in faces:\n",
    "            cv2.rectangle(imgC, (x, y), (x + w, y + h), (0, 255, 255), 7)\n",
    "            alt = int(imgC.shape[0]/imgC.shape[1]*640)\n",
    "        imgC = cv2.resize(imgC, (640, alt), interpolation =\n",
    "        cv2.INTER_CUBIC)\n",
    "        cv2.imshow(str(len(faces))+' face(s) encontrada(s).', imgC)\n",
    "        cv2.waitKey(0)"
   ]
  },
  {
   "cell_type": "code",
   "execution_count": null,
   "metadata": {},
   "outputs": [],
   "source": []
  }
 ],
 "metadata": {
  "kernelspec": {
   "display_name": "Python 3",
   "language": "python",
   "name": "python3"
  },
  "language_info": {
   "codemirror_mode": {
    "name": "ipython",
    "version": 3
   },
   "file_extension": ".py",
   "mimetype": "text/x-python",
   "name": "python",
   "nbconvert_exporter": "python",
   "pygments_lexer": "ipython3",
   "version": "3.7.6"
  }
 },
 "nbformat": 4,
 "nbformat_minor": 4
}
