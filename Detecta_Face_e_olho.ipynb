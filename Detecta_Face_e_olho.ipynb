{
 "cells": [
  {
   "cell_type": "code",
   "execution_count": 3,
   "metadata": {},
   "outputs": [
    {
     "data": {
      "text/plain": [
       "-1"
      ]
     },
     "execution_count": 3,
     "metadata": {},
     "output_type": "execute_result"
    }
   ],
   "source": [
    "import cv2\n",
    "\n",
    "#Xml de classificacao da OpenCV\n",
    "classificationO = \"haarcascade_eye_tree_eyeglasses.xml\"\n",
    "classificationF = \"haarcascade_frontalface_default.xml\"\n",
    "\n",
    "#Setando a classificacao do xml da OpenCV para olhos e faces\n",
    "olhoCascade = cv2.CascadeClassifier(classificationO)\n",
    "faceCascade = cv2.CascadeClassifier(classificationF)\n",
    "\n",
    "#Ler a imagem\n",
    "image = cv2.imread(\"./faces.jpg\")\n",
    "\n",
    "gray = cv2.cvtColor(image, cv2.COLOR_BGR2GRAY)\n",
    "\n",
    "#Fazer a deteccao da imagem\n",
    "olhos = olhoCascade.detectMultiScale(\n",
    "    gray,\n",
    "    scaleFactor=1.05,\n",
    "    minNeighbors=2,\n",
    "    minSize=(2, 2)\n",
    ")\n",
    "\n",
    "faces = faceCascade.detectMultiScale(\n",
    "    gray,\n",
    "    scaleFactor=1.05,\n",
    "    minNeighbors=4,\n",
    "    minSize=(30, 30)\n",
    ")\n",
    "\n",
    "#Setar o retangulo amarelo\n",
    "for (x, y, w, h) in olhos:\n",
    "    cv2.rectangle(image, (x, y), (x+w, y+h), (255, 255, 0), 2)\n",
    "    \n",
    "for (x, y, w, h) in faces:\n",
    "    cv2.rectangle(image, (x, y), (x+w, y+h), (0, 255, 210), 2)\n",
    "    \n",
    "# Exibir a imagem\n",
    "cv2.imshow(\"Titulo da imagem\", image)\n",
    "cv2.waitKey(0)"
   ]
  },
  {
   "cell_type": "code",
   "execution_count": null,
   "metadata": {},
   "outputs": [],
   "source": []
  }
 ],
 "metadata": {
  "kernelspec": {
   "display_name": "Python 3",
   "language": "python",
   "name": "python3"
  },
  "language_info": {
   "codemirror_mode": {
    "name": "ipython",
    "version": 3
   },
   "file_extension": ".py",
   "mimetype": "text/x-python",
   "name": "python",
   "nbconvert_exporter": "python",
   "pygments_lexer": "ipython3",
   "version": "3.7.6"
  }
 },
 "nbformat": 4,
 "nbformat_minor": 4
}
